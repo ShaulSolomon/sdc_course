{
  "nbformat": 4,
  "nbformat_minor": 0,
  "metadata": {
    "kernelspec": {
      "display_name": "Python 3",
      "language": "python",
      "name": "python3"
    },
    "language_info": {
      "codemirror_mode": {
        "name": "ipython",
        "version": 3
      },
      "file_extension": ".py",
      "mimetype": "text/x-python",
      "name": "python",
      "nbconvert_exporter": "python",
      "pygments_lexer": "ipython3",
      "version": "3.6.8"
    },
    "colab": {
      "name": "localization-homework.ipynb",
      "provenance": [],
      "include_colab_link": true
    }
  },
  "cells": [
    {
      "cell_type": "markdown",
      "metadata": {
        "id": "view-in-github",
        "colab_type": "text"
      },
      "source": [
        "<a href=\"https://colab.research.google.com/github/ShaulSolomon/sdc_course/blob/y_data_spring2020/seminar01-localization/localization-homework.ipynb\" target=\"_parent\"><img src=\"https://colab.research.google.com/assets/colab-badge.svg\" alt=\"Open In Colab\"/></a>"
      ]
    },
    {
      "cell_type": "markdown",
      "metadata": {
        "id": "b6pRCZS3vWem",
        "colab_type": "text"
      },
      "source": [
        "$\\newcommand{\\Normal}{\\mathcal{N}}\n",
        "\\newcommand{\\lp}{\\left(}\n",
        "\\newcommand{\\rp}{\\right)}\n",
        "\\newcommand{\\lf}{\\left\\{}\n",
        "\\newcommand{\\rf}{\\right\\}}\n",
        "\\newcommand{\\ls}{\\left[}\n",
        "\\newcommand{\\rs}{\\right]}\n",
        "\\newcommand{\\lv}{\\left|}\n",
        "\\newcommand{\\rv}{\\right|}\n",
        "\\newcommand{\\state}{x}\n",
        "\\newcommand{\\State}{\\boldx}\n",
        "\\newcommand{\\StateR}{\\boldX}\n",
        "\\newcommand{\\Covariance}{\\Sigma}\n",
        "\\newcommand{\\CovX}{\\Covariance_{\\boldX}}\n",
        "\\newcommand{\\CovY}{\\Covariance_{\\boldY}}\n",
        "\\newcommand{\\CovZ}{\\Covariance_{\\boldZ}}\n",
        "\\newcommand{\\CovXY}{\\Covariance_{\\boldX\\boldY}}\n",
        "\\newcommand{\\hatState}{\\hat{\\State}}\n",
        "\\newcommand{\\StateNum}{N}\n",
        "\\newcommand{\\StateDim}{K}\n",
        "\\newcommand{\\NumStates}{N}\n",
        "\\newcommand{\\StateToState}{A}\n",
        "\\newcommand{\\stateToState}{A}\n",
        "\\newcommand{\\StateCov}{\\Sigma}\n",
        "\\newcommand{\\StateJac}{A}\n",
        "\\newcommand{\\hatStateCov}{\\hat{\\StateCov}}\n",
        "\\newcommand{\\StateMean}{\\boldmu}\n",
        "\\newcommand{\\hatStateMean}{\\hat{\\StateMean}}\n",
        "\\newcommand{\\StateToStateHistory}{\\boldA}\n",
        "\\newcommand{\\StateNoise}{\\boldr}\n",
        "\\newcommand{\\StateNoiseCov}{R}\n",
        "\\newcommand{\\StateHistory}{\\boldX}\n",
        "\\newcommand{\\StatesHistory}{\\StateHistory}\n",
        "\\newcommand{\\StateToObserv}{C}\n",
        "\\newcommand{\\StateToobserv}{\\boldc}\n",
        "\\newcommand{\\StateToObservHistory}{\\boldC}\n",
        "\\newcommand{\\DState}{\\bolddelta}\n",
        "\\newcommand{\\hatDState}{\\hat{\\DState}}\n",
        "\\newcommand{\\DStateMean}{\\boldlambda}\n",
        "\\newcommand{\\hatDStateMean}{\\hat{\\DStateMean}}\n",
        "\\newcommand{\\DStateCov}{\\Lambda}\n",
        "\\newcommand{\\hatDStateCov}{\\hat{\\DStateCov}}\n",
        "\\newcommand{\\DObserv}{\\boldgamma}\n",
        "\\newcommand{\\hatDObserv}{\\hat{\\DObserv}}\n",
        "\\newcommand{\\observ}{z}\n",
        "\\newcommand{\\Observ}{\\boldsymbol{\\observ}}\n",
        "\\newcommand{\\ObservCov}{\\Lambda}\n",
        "\\newcommand{\\observMean}{\\lambda}\n",
        "\\newcommand{\\ObservMean}{\\boldlambda}\n",
        "\\newcommand{\\hatobserv}{\\hat{\\observ}}\n",
        "\\newcommand{\\hatObserv}{\\hat{\\Observ}}\n",
        "\\newcommand{\\hatObservCov}{\\hat{\\ObservCov}}\n",
        "\\newcommand{\\hatobservMean}{\\hat{\\observMean}}\n",
        "\\newcommand{\\hatObservMean}{\\hat{\\ObservMean}}\n",
        "\\newcommand{\\ObservSet}{\\ZZ}\n",
        "\\newcommand{\\ObservNum}{N}\n",
        "\\newcommand{\\ObservDim}{D}\n",
        "\\newcommand{\\ObservSourceNum}{M}\n",
        "\\newcommand{\\ObservHistory}{\\boldZ}\n",
        "\\newcommand{\\ObservsHistory}{\\ObservHistory}\n",
        "\\newcommand{\\Timestamps}{\\boldT}\n",
        "\\newcommand{\\ObservJac}{H}\n",
        "\\newcommand{\\observNoise}{q}\n",
        "\\newcommand{\\ObservNoise}{\\boldq}\n",
        "\\newcommand{\\ObservNoiseCov}{Q}\n",
        "\\newcommand{\\ObservNoiseCovHistory}{\\boldQ}\n",
        "\\newcommand{\\Jacobian}{\\boldJ}\n",
        "\\newcommand{\\Kalman}{K}\n",
        "\\newcommand{\\kalman}{\\boldk}\n",
        "\\newcommand{\\CC}{\\mathbb{C}}\n",
        "\\newcommand{\\NN}{\\mathbb{N}}\n",
        "\\newcommand{\\RR}{\\mathbb{R}}\n",
        "\\newcommand{\\XX}{\\mathbb{X}}\n",
        "\\newcommand{\\ZZ}{\\mathbb{Z}}\n",
        "\\renewcommand{\\AA}{\\mathbb{A}}\n",
        "\\newcommand{\\boldzero}{\\boldsymbol{0}}\n",
        "\\newcommand{\\boldone}{\\boldsymbol{1}}\n",
        "\\newcommand{\\bolda}{\\boldsymbol{a}}\n",
        "\\newcommand{\\boldb}{\\boldsymbol{b}}\n",
        "\\newcommand{\\boldc}{\\boldsymbol{c}}\n",
        "\\newcommand{\\boldd}{\\boldsymbol{d}}\n",
        "\\newcommand{\\bolde}{\\boldsymbol{e}}\n",
        "\\newcommand{\\boldf}{\\boldsymbol{f}}\n",
        "\\newcommand{\\boldg}{\\boldsymbol{g}}\n",
        "\\newcommand{\\boldh}{\\boldsymbol{h}}\n",
        "\\newcommand{\\boldi}{\\boldsymbol{i}}\n",
        "\\newcommand{\\boldj}{\\boldsymbol{j}}\n",
        "\\newcommand{\\boldk}{\\boldsymbol{k}}\n",
        "\\newcommand{\\boldl}{\\boldsymbol{l}}\n",
        "\\newcommand{\\boldm}{\\boldsymbol{m}}\n",
        "\\newcommand{\\boldn}{\\boldsymbol{n}}\n",
        "\\newcommand{\\boldo}{\\boldsymbol{o}}\n",
        "\\newcommand{\\boldp}{\\boldsymbol{p}}\n",
        "\\newcommand{\\boldq}{\\boldsymbol{q}}\n",
        "\\newcommand{\\boldr}{\\boldsymbol{r}}\n",
        "\\newcommand{\\bolds}{\\boldsymbol{s}}\n",
        "\\newcommand{\\boldt}{\\boldsymbol{t}}\n",
        "\\newcommand{\\boldu}{\\boldsymbol{u}}\n",
        "\\newcommand{\\boldv}{\\boldsymbol{v}}\n",
        "\\newcommand{\\boldw}{\\boldsymbol{w}}\n",
        "\\newcommand{\\boldx}{\\boldsymbol{x}}\n",
        "\\newcommand{\\boldy}{\\boldsymbol{y}}\n",
        "\\newcommand{\\boldz}{\\boldsymbol{z}}\n",
        "\\newcommand{\\boldA}{\\boldsymbol{A}}\n",
        "\\newcommand{\\boldB}{\\boldsymbol{B}}\n",
        "\\newcommand{\\boldC}{\\boldsymbol{C}}\n",
        "\\newcommand{\\boldD}{\\boldsymbol{D}}\n",
        "\\newcommand{\\boldE}{\\boldsymbol{E}}\n",
        "\\newcommand{\\boldF}{\\boldsymbol{F}}\n",
        "\\newcommand{\\boldH}{\\boldsymbol{H}}\n",
        "\\newcommand{\\boldJ}{\\boldsymbol{J}}\n",
        "\\newcommand{\\boldK}{\\boldsymbol{K}}\n",
        "\\newcommand{\\boldL}{\\boldsymbol{L}}\n",
        "\\newcommand{\\boldM}{\\boldsymbol{M}}\n",
        "\\newcommand{\\boldI}{\\boldsymbol{I}}\n",
        "\\newcommand{\\boldP}{\\boldsymbol{P}}\n",
        "\\newcommand{\\boldQ}{\\boldsymbol{Q}}\n",
        "\\newcommand{\\boldR}{\\boldsymbol{R}}\n",
        "\\newcommand{\\boldS}{\\boldsymbol{S}}\n",
        "\\newcommand{\\boldT}{\\boldsymbol{T}}\n",
        "\\newcommand{\\boldO}{\\boldsymbol{O}}\n",
        "\\newcommand{\\boldU}{\\boldsymbol{U}}\n",
        "\\newcommand{\\boldV}{\\boldsymbol{V}}\n",
        "\\newcommand{\\boldW}{\\boldsymbol{W}}\n",
        "\\newcommand{\\boldX}{\\boldsymbol{X}}\n",
        "\\newcommand{\\boldY}{\\boldsymbol{Y}}\n",
        "\\newcommand{\\boldZ}{\\boldsymbol{Z}}\n",
        "\\newcommand{\\boldXY}{\\boldsymbol{XY}}\n",
        "\\newcommand{\\boldmu}{\\boldsymbol{\\mu}}$"
      ]
    },
    {
      "cell_type": "code",
      "metadata": {
        "id": "i8oTA7267YiK",
        "colab_type": "code",
        "outputId": "309de495-63eb-40d9-a564-f06ecbf8274d",
        "colab": {
          "base_uri": "https://localhost:8080/",
          "height": 158
        }
      },
      "source": [
        "!git clone -b y_data_spring2020 https://github.com/ShaulSolomon/sdc_course SDC_B\n",
        "%cd /content/SDC_B/seminar01-localization"
      ],
      "execution_count": 1,
      "outputs": [
        {
          "output_type": "stream",
          "text": [
            "Cloning into 'SDC_B'...\n",
            "remote: Enumerating objects: 137, done.\u001b[K\n",
            "remote: Counting objects: 100% (137/137), done.\u001b[K\n",
            "remote: Compressing objects: 100% (105/105), done.\u001b[K\n",
            "remote: Total 464 (delta 51), reused 109 (delta 30), pack-reused 327\u001b[K\n",
            "Receiving objects: 100% (464/464), 28.40 MiB | 10.34 MiB/s, done.\n",
            "Resolving deltas: 100% (196/196), done.\n",
            "/content/SDC_B/seminar01-localization\n"
          ],
          "name": "stdout"
        }
      ]
    },
    {
      "cell_type": "markdown",
      "metadata": {
        "id": "F4XtPcvAvWen",
        "colab_type": "text"
      },
      "source": [
        "## Kalman filter formulas\n",
        "\n",
        "Let's say that $\\State_{k - 1}$ is a vector with system state and $\\State_{k - 1} \\sim \\Normal(\\mu_{k-1}, \\Sigma_{k-1})$. At timestamp $k$ we are getting observation $\\Observ_{k}$.\n",
        "\n",
        "We assume that observation model and system dynamic are linear:\n",
        "\\begin{gather*}\n",
        "\\State_{k} = \\StateToState_{k} \\State_{k - 1} + \\StateNoise_{k}, \\qquad \\StateNoise_{k} \\sim \\Normal(\\boldzero, \\StateNoiseCov_{k})\\\\\n",
        "\\Observ_{k} = \\StateToObserv_{k} \\State_{k} + \\ObservNoise_{k}, \\qquad \\ObservNoise_{k} \\sim\n",
        "\\Normal(\\boldzero, \\ObservNoiseCov_{k}).\n",
        "\\end{gather*}\n",
        "\n",
        "#### 1) Prediction \n",
        "$$\n",
        "\\boxed{\\hatStateMean_{k} = A_k \\mu_{k-1}, \\qquad \\hatStateCov_{k} = A_k \\Sigma_{k-1} A_k^T + R_k.}\n",
        "$$\n",
        "\n",
        "#### 2) Update\n",
        "\\begin{align*}\n",
        "&K_k = \\hatStateCov_{k} \\StateToObserv_{k}^T (\\StateToObserv_{k} \\hatStateCov_{k} \\StateToObserv_{k}^T + \\ObservNoiseCov_{k})^{-1},\\\\\n",
        "&\\StateMean_{k} = \\hatStateMean_{k} +K_k (\\Observ_{k} - \\StateToObserv_{k} \\hatStateMean_{k}),\\\\\n",
        "&\\StateCov_{k} = (I - K_k \\StateToObserv_{k}) \\hatStateCov_{k}.\n",
        "\\end{align*}"
      ]
    },
    {
      "cell_type": "markdown",
      "metadata": {
        "id": "5sHOKg3bvWeo",
        "colab_type": "text"
      },
      "source": [
        "## Movement model of car in 2D world"
      ]
    },
    {
      "cell_type": "markdown",
      "metadata": {
        "id": "Dr6hsk-5vWep",
        "colab_type": "text"
      },
      "source": [
        "### Car state\n",
        "Let's say that car can be described by the following vector:\n",
        "$$\n",
        "\\State = \\begin{pmatrix}\n",
        "x\\\\\n",
        "y\\\\\n",
        "\\gamma\\\\\n",
        "v\\\\\n",
        "\\omega\\\\\n",
        "\\end{pmatrix},\n",
        "$$\n",
        "where \n",
        "* $x$ - coordinate along $X$-axis;\n",
        "* $y$ - coordinate along $Y$-axis;\n",
        "* $\\gamma$ - yaw angle;\n",
        "* $v$ - velocity projection along $X$-axis;\n",
        "* $\\omega$ - angular velocity."
      ]
    },
    {
      "cell_type": "markdown",
      "metadata": {
        "id": "ChAGluwVvWeq",
        "colab_type": "text"
      },
      "source": [
        "### Transition model\n",
        "#### State transition from time $t$ to time $t + \\Delta t$ can be represented as\n",
        "$$\n",
        "\\State(t + \\Delta t) = \\boldf(\\State(t)) \\Rightarrow \n",
        "\\begin{pmatrix}\n",
        "x(t + \\Delta t)\\\\\n",
        "y(t + \\Delta t)\\\\\n",
        "\\gamma(t + \\Delta t)\\\\\n",
        "v(t + \\Delta t)\\\\\n",
        "\\omega(t + \\Delta t)\n",
        "\\end{pmatrix}\n",
        "\\approx\n",
        "\\begin{pmatrix}\n",
        "x(t) + v(t)\\cos(\\gamma(t))\\Delta t\\\\\n",
        "y(t) + v(t)\\sin(\\gamma(t))\\Delta t\\\\\n",
        "\\gamma(t) + \\omega(t) \\Delta t\\\\\n",
        "v(t)\\\\\n",
        "\\omega(t)\\\\\n",
        "\\end{pmatrix}.\n",
        "$$\n",
        "Note, that it's non-linear function i.e it can't be represented as:\n",
        "$$\n",
        "\\State(t + \\Delta t) \\approx A(\\Delta t) \\State(t)\n",
        "$$\n",
        "It means that we have to use Extened Kalman Filter (**EKF**).\n",
        "\n",
        "#### Jacobian of transition function $f(x(t))$\n",
        "We can represent $\\State(t + \\Delta t)$ using Taylor series\n",
        "$$\n",
        "\\State(t + \\Delta t) \\approx f(\\mu(t)) + J_f(\\mu(t)) (\\State(t) - \\mu(t)) + \\text{H.O.D.},\n",
        "$$\n",
        "where\n",
        "* $f(\\mu(t), \\Delta t)$ - state at time $t + \\Delta t$, if $\\State(t) = \\mu(t)$ at time $t$.\n",
        "* $J_f(\\mu(t))$ - Jacobian value of $f(\\State)$ at point $\\mu(t)$. \n",
        "* $\\State(t) - \\mu(t)$ - difference between ground truth $\\State(t)$ and expected value $\\mu(t)$; random value with distribution $\\Normal(\\boldzero, \\Sigma(t))$, which implies normal distribution of $\\State(t + \\Delta t)$.\n",
        "* H.O.D. - higher order degrees which can be skipped.\n",
        "\n",
        "Jacobian:\n",
        "$$\n",
        "J_f(\\State(t)) =\n",
        "\\begin{pmatrix}\n",
        "1 &0 &-v(t)\\sin(\\gamma(t))\\Delta t &\\cos(\\gamma(t))\\Delta t &0\\\\\n",
        "0 &1 &v(t)\\cos(\\gamma(t))\\Delta t &\\sin(\\gamma(t))\\Delta t &0\\\\\n",
        "0 &0 &1 &0 &\\Delta t\\\\\n",
        "0 &0 &0 &1 &0\\\\\n",
        "0 &0 &0 &0 &1\\\\\n",
        "\\end{pmatrix}\n",
        "$$\n",
        "\n",
        "#### System transition model\n",
        "Final formulas:\n",
        "\\begin{align}\n",
        "&\\mu(t + \\Delta t) = f(\\mu(t), \\Delta t),\\\\\n",
        "&\\Sigma(t + \\Delta t) = J_f(\\mu(t)) \\Sigma(t)J_f(\\mu(t))^T + R(t) \\Delta t,\n",
        "\\end{align}\n",
        "где \n",
        "* $\\mu(t)$ - current mean value;\n",
        "* $\\Sigma(t)$ - current variance;\n",
        "* $\\Delta t$ - time step;\n",
        "* $R(t)$ - noise covariance density matrix (represents groth rate of covariance matrix elements per second)"
      ]
    },
    {
      "cell_type": "markdown",
      "metadata": {
        "id": "0SiT8zAVvWer",
        "colab_type": "text"
      },
      "source": [
        "### Observation models\n",
        "#### GPS\n",
        "$$\n",
        "C_{gps} =\n",
        "\\begin{pmatrix}\n",
        "1 &0 &0 &0 &0\\\\\n",
        "0 &1 &0 &0 &0\\\\\n",
        "\\end{pmatrix}\n",
        "$$\n",
        "\n",
        "#### CAN\n",
        "$$\n",
        "C_{can} =\n",
        "\\begin{pmatrix}\n",
        "0 &0 &0 &1 &0\\\\\n",
        "\\end{pmatrix}\n",
        "$$\n",
        "\n",
        "#### IMU\n",
        "$$\n",
        "C_{imu} =\n",
        "\\begin{pmatrix}\n",
        "0 &0 &0 &0 &1\\\\\n",
        "\\end{pmatrix}\n",
        "$$"
      ]
    },
    {
      "cell_type": "code",
      "metadata": {
        "id": "AGSCCl60vWer",
        "colab_type": "code",
        "colab": {}
      },
      "source": [
        "import numpy as np\n",
        "from matplotlib import pyplot as plt\n",
        "import time    \n",
        "%matplotlib inline\n",
        "\n",
        "from sdc.timestamp import Timestamp\n",
        "from sdc.car import Car\n",
        "from sdc.kalman_car import KalmanCar\n",
        "from sdc.util import create_car, create_kalman_car"
      ],
      "execution_count": 0,
      "outputs": []
    },
    {
      "cell_type": "code",
      "metadata": {
        "id": "82q2H5bD-45R",
        "colab_type": "code",
        "colab": {}
      },
      "source": [
        "%load_ext autoreload\n",
        "%autoreload 2"
      ],
      "execution_count": 0,
      "outputs": []
    },
    {
      "cell_type": "markdown",
      "metadata": {
        "id": "lPYbPZRgvWev",
        "colab_type": "text"
      },
      "source": [
        "# Homework\n",
        "\n",
        "## 1. kalman_filter.py\n",
        "\n",
        "First of all, **implement `kalman_transit_covariance()` and `kalman_process_observation()` in `sdc/kalman_filter.py`**\n",
        "\n",
        "Here are few tests to make sure that your implementation is good"
      ]
    },
    {
      "cell_type": "code",
      "metadata": {
        "id": "IriUWuxPvWew",
        "colab_type": "code",
        "outputId": "b8d91704-7bc3-44d4-88b4-e9d14b655372",
        "colab": {
          "base_uri": "https://localhost:8080/",
          "height": 52
        }
      },
      "source": [
        "import sdc.kalman_filter\n",
        "\n",
        "\n",
        "S = np.arange(16).reshape(4,4) *0.01\n",
        "A = np.arange(16, 16+16)[::-1].reshape(4,4)*0.05\n",
        "R = np.eye(4)\n",
        "new_S = np.array([[3.537, 2.191, 1.845, 1.499],\n",
        "                  [2.185, 2.887, 1.589, 1.291],\n",
        "                  [1.833, 1.583, 2.333, 1.083],\n",
        "                  [1.481, 1.279, 1.077, 1.875]])\n",
        "test_S = sdc.kalman_filter.kalman_transit_covariance(S,A,R)\n",
        "assert np.allclose(test_S, new_S), \"check kalman_transit_covariance, something wrong\"\n",
        "print (\"kalman_transit_covariance test passed!\")\n",
        "    \n",
        "mu = np.array([42, 15, 29, 8], np.float32)\n",
        "observation = np.array([8, 77], np.float32)\n",
        "C = np.arange(2*4).reshape(2,4) * 0.01\n",
        "Q = np.arange(2*2).reshape(2,2) * 0.05\n",
        "new_mu = np.array([43.22041159, 18.61524285, 35.0100741 , 16.40490536])\n",
        "new_S = np.array([[-0.00039191,  0.00955827,  0.01950846,  0.02945864],\n",
        "                  [ 0.03868721,  0.04852542,  0.05836363,  0.06820184],\n",
        "                  [ 0.07776633,  0.08749257,  0.0972188 ,  0.10694504],\n",
        "                  [ 0.11684545,  0.12645971,  0.13607397,  0.14568823]])\n",
        "\n",
        "pred = sdc.kalman_filter.kalman_process_observation(mu, S, observation, C, Q)\n",
        "assert np.allclose(pred[0], new_mu), \"check new_mu in kalman_process_observation\"\n",
        "assert np.allclose(pred[1], new_S), \"check new_S in kalman_process_observation\"\n",
        "print (\"kalman_process_observation test passed!\")"
      ],
      "execution_count": 4,
      "outputs": [
        {
          "output_type": "stream",
          "text": [
            "kalman_transit_covariance test passed!\n",
            "kalman_process_observation test passed!\n"
          ],
          "name": "stdout"
        }
      ]
    },
    {
      "cell_type": "markdown",
      "metadata": {
        "id": "BQ3QxqNfvWe0",
        "colab_type": "text"
      },
      "source": [
        "## 2. Localization quality estimation\n"
      ]
    },
    {
      "cell_type": "markdown",
      "metadata": {
        "id": "3XQ-eQJUvWe0",
        "colab_type": "text"
      },
      "source": [
        "**Implement function `calculate_tracks()`.** Check \"Kalman filter testing\" block of tutorial on ideas about how to feed sensor data from 'car' to 'kalman_car'"
      ]
    },
    {
      "cell_type": "code",
      "metadata": {
        "id": "HM4TvUt9vWe1",
        "colab_type": "code",
        "colab": {}
      },
      "source": [
        "def calculate_tracks(car, kalman_car, duration, dt):\n",
        "    \"\"\"\n",
        "    Moves car along its trajectory during time 'duration' with step 'dt' \n",
        "    and returns its real trajectory, gps trajectory and tranjectory from kalman filter before and after \n",
        "    observation processing\n",
        "\n",
        "    :param car: initialized car model\n",
        "    :param kalman_car: initialized kalman car model\n",
        "    :param duration: simulation time duration\n",
        "    :param dt: time step\n",
        "    \n",
        "    :returns: real_track, gps_track, kalman_track_predictions, kalman_track -  np.arrays of \n",
        "    shape (n_steps, 2)\n",
        "    \"\"\"\n",
        "    # assert isinstance(car, Car)\n",
        "    # assert isinstance(kalman_car, KalmanCar)\n",
        "    # assert isinstance(duration, Timestamp)\n",
        "    # assert isinstance(dt, Timestamp)\n",
        "    # assert car.movement_model is not None\n",
        "    # assert car.gps_sensor is not None\n",
        "    # output arrays:\n",
        "    real_track = []\n",
        "    gps_track = []\n",
        "    kalman_track_predictions = []  # positions after kalman_car.move(dt)\n",
        "    kalman_track = []  # positions after kalman_sensor.process_observation(car_sensor_observation)\n",
        "\n",
        "    final_time = car.time + duration\n",
        "      \n",
        "    # TODO: implement the function\n",
        "    while car.time < final_time:\n",
        "\n",
        "        car.move(dt)\n",
        "        kalman_car.move(dt)\n",
        "\n",
        "        real_track.append([car._position_x,car._position_y])\n",
        "        kalman_track_predictions.append([kalman_car._position_x,kalman_car._position_y])\n",
        " \n",
        "\n",
        "        if car.can_sensor.observe() is not None:\n",
        "          can_observation = car.can_sensor.observe() \n",
        "          kalman_car.can_sensor.process_observation(can_observation)\n",
        "\n",
        "        if car.imu_sensor is not None:\n",
        "          imu_observation = car.imu_sensor.observe()\n",
        "          kalman_car.imu_sensor.process_observation(can_observation)\n",
        "\n",
        "        if car.gps_sensor is not None:\n",
        "          gps_observation = car.gps_sensor.observe()\n",
        "          kalman_car.gps_sensor.process_observation(gps_observation)\n",
        "\n",
        "          gps_track.append(gps_observation)\n",
        "\n",
        "        kalman_track.append([kalman_car._position_x,kalman_car._position_y])\n",
        "\n",
        "\n",
        "    return np.array(real_track), np.array(gps_track), np.array(kalman_track_predictions), \\\n",
        "           np.array(kalman_track)"
      ],
      "execution_count": 0,
      "outputs": []
    },
    {
      "cell_type": "code",
      "metadata": {
        "scrolled": true,
        "id": "ACiT_MW7vWe4",
        "colab_type": "code",
        "outputId": "38485da9-60d2-4451-80a0-0bf0e3354438",
        "colab": {
          "base_uri": "https://localhost:8080/",
          "height": 881
        }
      },
      "source": [
        "# let's test the function\n",
        "car = create_car()\n",
        "kalman_car = create_kalman_car(car)\n",
        "duration = Timestamp.seconds(40)\n",
        "dt = Timestamp.seconds(0.1)\n",
        "\n",
        "real_track, gps_track, kalman_track_pred, kalman_track = calculate_tracks(car, kalman_car, duration, dt)\n",
        "\n",
        "plt.figure(figsize=(15, 15))\n",
        "plt.subplot(111, aspect='equal')\n",
        "plt.plot(gps_track[:, 0], gps_track[:, 1], '.:', c=\"black\", label='GPS measurement')\n",
        "plt.plot(kalman_track[:, 0], kalman_track[:, 1], 'r.:', label=\"Kalman estimate\")\n",
        "plt.plot(real_track[:, 0], real_track[:, 1], 'gx', label=\"Real position\")\n",
        "plt.grid()\n",
        "plt.legend();"
      ],
      "execution_count": 39,
      "outputs": [
        {
          "output_type": "execute_result",
          "data": {
            "text/plain": [
              "<matplotlib.legend.Legend at 0x7fb72a6040f0>"
            ]
          },
          "metadata": {
            "tags": []
          },
          "execution_count": 39
        },
        {
          "output_type": "display_data",
          "data": {
            "image/png": "[encoded data removed]",
            "text/plain": [
              "<Figure size 1080x1080 with 1 Axes>"
            ]
          },
          "metadata": {
            "tags": [],
            "needs_background": "light"
          }
        }
      ]
    },
    {
      "cell_type": "markdown",
      "metadata": {
        "id": "oc--rcEAvWe-",
        "colab_type": "text"
      },
      "source": [
        "We can calulate MSE between real position of car and its estimation from gps or kalman filter."
      ]
    },
    {
      "cell_type": "code",
      "metadata": {
        "id": "qvREZJJovWe-",
        "colab_type": "code",
        "colab": {}
      },
      "source": [
        "def calculate_mse(gt, prediction):\n",
        "    return np.sum((gt - prediction)**2) / len(gt)"
      ],
      "execution_count": 0,
      "outputs": []
    },
    {
      "cell_type": "code",
      "metadata": {
        "id": "EjyYTPLNvWfG",
        "colab_type": "code",
        "colab": {
          "base_uri": "https://localhost:8080/",
          "height": 34
        },
        "outputId": "7e292cc8-cee0-47d4-beb1-19ca8aaf792b"
      },
      "source": [
        "# Let's calculate some MSE\n",
        "car = create_car(random_state=0)\n",
        "kalman_car = create_kalman_car(car)\n",
        "duration = Timestamp.seconds(40)\n",
        "dt = Timestamp.seconds(0.05)\n",
        "real_track, gps_track, kalman_track_pred, kalman_track = calculate_tracks(car, kalman_car, duration, dt)\n",
        "\n",
        "mse_gps = calculate_mse(real_track, gps_track)\n",
        "mse_kalman_prediction = calculate_mse(real_track, kalman_track_pred)\n",
        "mse_kalman = calculate_mse(real_track, kalman_track)\n",
        "print('mse with gps = {}; mse with kalman prediction = {}; mse with kalman = {}'.format(\n",
        "    mse_gps, mse_kalman_prediction, mse_kalman))"
      ],
      "execution_count": 41,
      "outputs": [
        {
          "output_type": "stream",
          "text": [
            "mse with gps = 1.9969614040226136; mse with kalman prediction = 0.2561247267510506; mse with kalman = 0.22141413646264144\n"
          ],
          "name": "stdout"
        }
      ]
    },
    {
      "cell_type": "markdown",
      "metadata": {
        "id": "-ZrmY4U9vWfK",
        "colab_type": "text"
      },
      "source": [
        "Let's see how well kalman filter works with different noise in sensors."
      ]
    },
    {
      "cell_type": "code",
      "metadata": {
        "id": "M60Y8Un4vWfM",
        "colab_type": "code",
        "colab": {
          "base_uri": "https://localhost:8080/",
          "height": 230
        },
        "outputId": "de5a7003-5b28-4cc6-aa59-d8e7236d5635"
      },
      "source": [
        "duration = Timestamp.seconds(40)\n",
        "dt = Timestamp.seconds(0.05)\n",
        "for gps_var, can_var in [[1.0, 0.1], [1.0, 0.25], [1.0, 1.0], [1.0, 5.],[1.0, 50.],[1.0, 200.]]:\n",
        "    car = create_car(random_state=0, gps_noise_variances=[gps_var, gps_var], can_noise_variances=[can_var])\n",
        "    # TODO create kalman_car, calculate tracks, calculate mse to check, how parameters change the output\n",
        "    # kalman_car = create_kalman_car(car, gps_variances=gps_var, can_variances=can_var)\n",
        "    kalman_car = create_kalman_car(car)\n",
        "    real_track, gps_track, kalman_track_pred, kalman_track = calculate_tracks(car, kalman_car, duration, dt)\n",
        "\n",
        "    mse_gps = calculate_mse(real_track, gps_track)\n",
        "    mse_kalman_prediction = calculate_mse(real_track, kalman_track_pred)\n",
        "    mse_kalman = calculate_mse(real_track, kalman_track)\n",
        "    print('gps variance = {}; can variance = {}'.format(gps_var, can_var))\n",
        "    print('mse with gps = {}; mse with kalman prediction = {}; mse with kalman = {}'.format(\n",
        "        mse_gps, mse_kalman_prediction, mse_kalman))"
      ],
      "execution_count": 42,
      "outputs": [
        {
          "output_type": "stream",
          "text": [
            "gps variance = 1.0; can variance = 0.1\n",
            "mse with gps = 1.9969614040226136; mse with kalman prediction = 0.25393947299926695; mse with kalman = 0.21969232708872094\n",
            "gps variance = 1.0; can variance = 0.25\n",
            "mse with gps = 1.9969614040226136; mse with kalman prediction = 0.2561247267510506; mse with kalman = 0.22141413646264144\n",
            "gps variance = 1.0; can variance = 1.0\n",
            "mse with gps = 1.9969614040226136; mse with kalman prediction = 0.2639061275655837; mse with kalman = 0.2278644131186311\n",
            "gps variance = 1.0; can variance = 5.0\n",
            "mse with gps = 1.9969614040226136; mse with kalman prediction = 0.27370894947541946; mse with kalman = 0.236347036709444\n",
            "gps variance = 1.0; can variance = 50.0\n",
            "mse with gps = 1.9969614040226136; mse with kalman prediction = 0.2724588810356685; mse with kalman = 0.23580824637946526\n",
            "gps variance = 1.0; can variance = 200.0\n",
            "mse with gps = 1.9969614040226136; mse with kalman prediction = 0.2712097525795237; mse with kalman = 0.2349128174711461\n"
          ],
          "name": "stdout"
        }
      ]
    },
    {
      "cell_type": "markdown",
      "metadata": {
        "id": "b8ABLlAfvWfQ",
        "colab_type": "text"
      },
      "source": [
        "Any ideas, **why MSE with kalman output for can_variance == 50 is almost equal to mse for can_variance == 200 ?**"
      ]
    },
    {
      "cell_type": "code",
      "metadata": {
        "id": "9Zux18YyvWfS",
        "colab_type": "code",
        "colab": {}
      },
      "source": [
        "# TODO your answer"
      ],
      "execution_count": 0,
      "outputs": []
    },
    {
      "cell_type": "markdown",
      "metadata": {
        "id": "PZR5lCTivWfX",
        "colab_type": "text"
      },
      "source": [
        "## 3. IMU sensor\n",
        "\n",
        "**Implement `ImuSensor` class in `sdc/imu_sensor.py` and `KalmanImuSensor` in `sdc/kalman_imu_sensor.py`** (see `CanSensor` and `KalmanCanSensor` for examples of similar classes). Remind, that IMU measures current angular velocity of car i.e `car._omega`."
      ]
    },
    {
      "cell_type": "code",
      "metadata": {
        "id": "_XlQW_UVvWfY",
        "colab_type": "code",
        "colab": {
          "base_uri": "https://localhost:8080/",
          "height": 158
        },
        "outputId": "440ee307-752b-468c-c462-a3f83061e2be"
      },
      "source": [
        "from sdc.imu_sensor import ImuSensor\n",
        "imu = ImuSensor()\n",
        "\n",
        "initial_omega = np.random.random()\n",
        "car = create_car(random_state=0, initial_omega=initial_omega)\n",
        "\n",
        "kalman_car = create_kalman_car(car)\n",
        "car.add_sensor(imu)\n",
        "\n",
        "assert imu.observation_size == 1, imu.observation_size\n",
        "assert imu._observe_clear() == np.array([initial_omega], np.float32)\n",
        "print (\"ImuSensor tests passed\")\n",
        "\n",
        "from sdc.kalman_imu_sensor import KalmanImuSensor\n",
        "imu = KalmanImuSensor()\n",
        "kalman_car.add_sensor(imu)\n",
        "assert imu.observation_size == 1, imu.observation_size\n",
        "assert imu.get_observation_matrix().shape == (1, imu.state_size)\n",
        "assert np.isclose(imu.get_observation_matrix()[0,kalman_car.OMEGA_INDEX], 1)\n",
        "assert np.isclose(imu.get_observation_matrix().sum(), 1)\n",
        "print (\"KalmanImuSensor tests passed\")"
      ],
      "execution_count": 89,
      "outputs": [
        {
          "output_type": "stream",
          "text": [
            "<class 'sdc.can_sensor.CanSensor'>\n",
            "<class 'sdc.gps_sensor.GpsSensor'>\n",
            "<class 'sdc.kalman_can_sensor.KalmanCanSensor'>\n",
            "<class 'sdc.kalman_gps_sensor.KalmanGpsSensor'>\n",
            "<class 'sdc.imu_sensor.ImuSensor'>\n",
            "ImuSensor tests passed\n",
            "<class 'sdc.kalman_imu_sensor.KalmanImuSensor'>\n",
            "KalmanImuSensor tests passed\n"
          ],
          "name": "stdout"
        }
      ]
    },
    {
      "cell_type": "markdown",
      "metadata": {
        "id": "AnlltscCvWfd",
        "colab_type": "text"
      },
      "source": [
        "**Check if adding imu sensor reduces mse error**"
      ]
    },
    {
      "cell_type": "code",
      "metadata": {
        "id": "9ff6dI_OvWfe",
        "colab_type": "code",
        "colab": {
          "base_uri": "https://localhost:8080/",
          "height": 141
        },
        "outputId": "2e91f119-5104-4597-c08a-946325801822"
      },
      "source": [
        "st = 0\n",
        "car = create_car(random_state=st, imu_noise_variances=[0.01])\n",
        "kalman_car = create_kalman_car(car)\n",
        "duration = Timestamp.seconds(40)\n",
        "dt = Timestamp.seconds(0.05)\n",
        "\n",
        "# TODO calculate mse for model with imu\n",
        "real_track, gps_track, kalman_track_pred, kalman_track = calculate_tracks(car, kalman_car, duration, dt)\n",
        "\n",
        "mse_gps = calculate_mse(real_track, gps_track)\n",
        "mse_kalman_prediction = calculate_mse(real_track, kalman_track_pred)\n",
        "mse_kalman = calculate_mse(real_track, kalman_track)\n",
        "print('mse with gps = {}; mse with kalman prediction = {}; mse with kalman = {}'.format(\n",
        "    mse_gps, mse_kalman_prediction, mse_kalman))\n",
        "\n",
        "car = create_car(random_state=st, imu_noise_variances=None)\n",
        "kalman_car = create_kalman_car(car)\n",
        "\n",
        "# TODO calculate mse for model without imu\n",
        "real_track, gps_track, kalman_track_pred, kalman_track = calculate_tracks(car, kalman_car, duration, dt)\n",
        "\n",
        "mse_gps = calculate_mse(real_track, gps_track)\n",
        "mse_kalman_prediction = calculate_mse(real_track, kalman_track_pred)\n",
        "mse_kalman = calculate_mse(real_track, kalman_track)\n",
        "print('mse with gps = {}; mse with kalman prediction = {}; mse with kalman = {}'.format(\n",
        "    mse_gps, mse_kalman_prediction, mse_kalman))"
      ],
      "execution_count": 127,
      "outputs": [
        {
          "output_type": "stream",
          "text": [
            "<class 'sdc.kalman_can_sensor.KalmanCanSensor'>\n",
            "<class 'sdc.kalman_gps_sensor.KalmanGpsSensor'>\n",
            "<class 'sdc.kalman_imu_sensor.KalmanImuSensor'>\n",
            "mse with gps = 1.9969614040226136; mse with kalman prediction = 8.010865469541454; mse with kalman = 6.4641074525461955\n",
            "<class 'sdc.kalman_can_sensor.KalmanCanSensor'>\n",
            "<class 'sdc.kalman_gps_sensor.KalmanGpsSensor'>\n",
            "mse with gps = 1.9969614040226136; mse with kalman prediction = 0.2561247267510506; mse with kalman = 0.22141413646264144\n"
          ],
          "name": "stdout"
        }
      ]
    },
    {
      "cell_type": "code",
      "metadata": {
        "id": "fXiMBOugvWfi",
        "colab_type": "code",
        "colab": {}
      },
      "source": [
        "pytho"
      ],
      "execution_count": 0,
      "outputs": []
    }
  ]
}